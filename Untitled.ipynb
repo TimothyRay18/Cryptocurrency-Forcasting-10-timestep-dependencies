{
 "cells": [
  {
   "cell_type": "code",
   "execution_count": 2,
   "id": "c15c37bd-376d-47b9-80d6-0d43e236a4cb",
   "metadata": {},
   "outputs": [],
   "source": [
    "from openpyxl.workbook import Workbook"
   ]
  },
  {
   "cell_type": "code",
   "execution_count": 5,
   "id": "07735feb-40e9-4628-abfe-62ed5c9bdc22",
   "metadata": {},
   "outputs": [],
   "source": [
    "wb = Workbook()"
   ]
  },
  {
   "cell_type": "code",
   "execution_count": 6,
   "id": "50791dae-6575-41df-b9ce-dd76f003bb9f",
   "metadata": {},
   "outputs": [],
   "source": [
    "ws = wb.active"
   ]
  },
  {
   "cell_type": "code",
   "execution_count": 7,
   "id": "31afd7a9-7944-4e5e-9b76-9eff77520565",
   "metadata": {},
   "outputs": [],
   "source": [
    "ws['A4'] = 4"
   ]
  },
  {
   "cell_type": "code",
   "execution_count": 8,
   "id": "523e2d18-5ec4-40f0-9bdc-5b1ef01cc147",
   "metadata": {},
   "outputs": [],
   "source": [
    "wb.save('balances.xlsx')"
   ]
  },
  {
   "cell_type": "code",
   "execution_count": null,
   "id": "6ac965fc-ab86-415a-b6d9-101730b310d4",
   "metadata": {},
   "outputs": [],
   "source": []
  }
 ],
 "metadata": {
  "kernelspec": {
   "display_name": "Python 3 (ipykernel)",
   "language": "python",
   "name": "python3"
  },
  "language_info": {
   "codemirror_mode": {
    "name": "ipython",
    "version": 3
   },
   "file_extension": ".py",
   "mimetype": "text/x-python",
   "name": "python",
   "nbconvert_exporter": "python",
   "pygments_lexer": "ipython3",
   "version": "3.9.13"
  }
 },
 "nbformat": 4,
 "nbformat_minor": 5
}
