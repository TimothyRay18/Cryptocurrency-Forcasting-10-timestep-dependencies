{
 "cells": [
  {
   "cell_type": "code",
   "execution_count": 1,
   "id": "499ef9d1-2655-483e-9f50-0badccf17d21",
   "metadata": {},
   "outputs": [],
   "source": [
    "# prepare data for lstm\n",
    "from pandas import read_csv\n",
    "from pandas import DataFrame\n",
    "from pandas import concat\n",
    "from sklearn.preprocessing import LabelEncoder\n",
    "from sklearn.preprocessing import MinMaxScaler\n",
    "import tensorflow as tf\n",
    "from sklearn.preprocessing import MinMaxScaler\n",
    "import numpy as np\n",
    "from tensorflow.keras.models import Sequential\n",
    "from tensorflow.keras.layers import Dense, Dropout\n",
    "from tensorflow.keras.layers import LSTM"
   ]
  },
  {
   "cell_type": "code",
   "execution_count": 2,
   "id": "b213829a-295a-46a7-bbd7-152bcce0aeb2",
   "metadata": {},
   "outputs": [],
   "source": [
    "import pandas as pd\n",
    "import matplotlib.pyplot as plt\n",
    "\n",
    "# Set-up to have matplotlib use its support for notebook inline plots\n",
    "%matplotlib inline"
   ]
  },
  {
   "cell_type": "code",
   "execution_count": 3,
   "id": "f8ed0706-d5c2-4868-beee-6933c00b0a83",
   "metadata": {},
   "outputs": [
    {
     "data": {
      "text/html": [
       "<div>\n",
       "<style scoped>\n",
       "    .dataframe tbody tr th:only-of-type {\n",
       "        vertical-align: middle;\n",
       "    }\n",
       "\n",
       "    .dataframe tbody tr th {\n",
       "        vertical-align: top;\n",
       "    }\n",
       "\n",
       "    .dataframe thead th {\n",
       "        text-align: right;\n",
       "    }\n",
       "</style>\n",
       "<table border=\"1\" class=\"dataframe\">\n",
       "  <thead>\n",
       "    <tr style=\"text-align: right;\">\n",
       "      <th></th>\n",
       "      <th>unix</th>\n",
       "      <th>date</th>\n",
       "      <th>symbol</th>\n",
       "      <th>open</th>\n",
       "      <th>high</th>\n",
       "      <th>low</th>\n",
       "      <th>close</th>\n",
       "      <th>Volume BTC</th>\n",
       "      <th>Volume USDT</th>\n",
       "      <th>tradecount</th>\n",
       "    </tr>\n",
       "  </thead>\n",
       "  <tbody>\n",
       "    <tr>\n",
       "      <th>0</th>\n",
       "      <td>1.669684e+12</td>\n",
       "      <td>2022-11-29 01:00:00</td>\n",
       "      <td>BTC/USDT</td>\n",
       "      <td>16178.74</td>\n",
       "      <td>16309.03</td>\n",
       "      <td>16171.17</td>\n",
       "      <td>16250.77</td>\n",
       "      <td>9098.01403</td>\n",
       "      <td>1.476206e+08</td>\n",
       "      <td>227013.0</td>\n",
       "    </tr>\n",
       "    <tr>\n",
       "      <th>1</th>\n",
       "      <td>1.669680e+12</td>\n",
       "      <td>2022-11-29 00:00:00</td>\n",
       "      <td>BTC/USDT</td>\n",
       "      <td>16212.18</td>\n",
       "      <td>16224.83</td>\n",
       "      <td>16100.00</td>\n",
       "      <td>16130.62</td>\n",
       "      <td>6565.59515</td>\n",
       "      <td>1.061095e+08</td>\n",
       "      <td>125147.0</td>\n",
       "    </tr>\n",
       "    <tr>\n",
       "      <th>2</th>\n",
       "      <td>1.669676e+12</td>\n",
       "      <td>2022-11-28 23:00:00</td>\n",
       "      <td>BTC/USDT</td>\n",
       "      <td>16220.36</td>\n",
       "      <td>16245.92</td>\n",
       "      <td>16195.63</td>\n",
       "      <td>16212.91</td>\n",
       "      <td>4925.09556</td>\n",
       "      <td>7.988443e+07</td>\n",
       "      <td>112061.0</td>\n",
       "    </tr>\n",
       "    <tr>\n",
       "      <th>3</th>\n",
       "      <td>1.669673e+12</td>\n",
       "      <td>2022-11-28 22:00:00</td>\n",
       "      <td>BTC/USDT</td>\n",
       "      <td>16200.56</td>\n",
       "      <td>16235.21</td>\n",
       "      <td>16195.72</td>\n",
       "      <td>16220.76</td>\n",
       "      <td>3742.40807</td>\n",
       "      <td>6.068580e+07</td>\n",
       "      <td>89180.0</td>\n",
       "    </tr>\n",
       "    <tr>\n",
       "      <th>4</th>\n",
       "      <td>1.669669e+12</td>\n",
       "      <td>2022-11-28 21:00:00</td>\n",
       "      <td>BTC/USDT</td>\n",
       "      <td>16256.33</td>\n",
       "      <td>16262.77</td>\n",
       "      <td>16186.00</td>\n",
       "      <td>16199.59</td>\n",
       "      <td>6780.81367</td>\n",
       "      <td>1.099914e+08</td>\n",
       "      <td>155815.0</td>\n",
       "    </tr>\n",
       "    <tr>\n",
       "      <th>...</th>\n",
       "      <td>...</td>\n",
       "      <td>...</td>\n",
       "      <td>...</td>\n",
       "      <td>...</td>\n",
       "      <td>...</td>\n",
       "      <td>...</td>\n",
       "      <td>...</td>\n",
       "      <td>...</td>\n",
       "      <td>...</td>\n",
       "      <td>...</td>\n",
       "    </tr>\n",
       "    <tr>\n",
       "      <th>46291</th>\n",
       "      <td>1.502957e+09</td>\n",
       "      <td>2017-08-17 08:00:00</td>\n",
       "      <td>BTC/USDT</td>\n",
       "      <td>4349.99</td>\n",
       "      <td>4377.85</td>\n",
       "      <td>4333.32</td>\n",
       "      <td>4360.69</td>\n",
       "      <td>0.94990</td>\n",
       "      <td>4.139700e+03</td>\n",
       "      <td>NaN</td>\n",
       "    </tr>\n",
       "    <tr>\n",
       "      <th>46292</th>\n",
       "      <td>1.502953e+09</td>\n",
       "      <td>2017-08-17 07:00:00</td>\n",
       "      <td>BTC/USDT</td>\n",
       "      <td>4324.35</td>\n",
       "      <td>4349.99</td>\n",
       "      <td>4287.41</td>\n",
       "      <td>4349.99</td>\n",
       "      <td>4.44000</td>\n",
       "      <td>1.924106e+04</td>\n",
       "      <td>NaN</td>\n",
       "    </tr>\n",
       "    <tr>\n",
       "      <th>46293</th>\n",
       "      <td>1.502950e+09</td>\n",
       "      <td>2017-08-17 06:00:00</td>\n",
       "      <td>BTC/USDT</td>\n",
       "      <td>4315.32</td>\n",
       "      <td>4345.45</td>\n",
       "      <td>4309.37</td>\n",
       "      <td>4324.35</td>\n",
       "      <td>7.23000</td>\n",
       "      <td>3.128231e+04</td>\n",
       "      <td>NaN</td>\n",
       "    </tr>\n",
       "    <tr>\n",
       "      <th>46294</th>\n",
       "      <td>1.502946e+09</td>\n",
       "      <td>2017-08-17 05:00:00</td>\n",
       "      <td>BTC/USDT</td>\n",
       "      <td>4308.83</td>\n",
       "      <td>4328.69</td>\n",
       "      <td>4291.37</td>\n",
       "      <td>4315.32</td>\n",
       "      <td>23.23000</td>\n",
       "      <td>1.003048e+05</td>\n",
       "      <td>NaN</td>\n",
       "    </tr>\n",
       "    <tr>\n",
       "      <th>46295</th>\n",
       "      <td>1.502942e+09</td>\n",
       "      <td>2017-08-17 04:00:00</td>\n",
       "      <td>BTC/USDT</td>\n",
       "      <td>16199.91</td>\n",
       "      <td>16199.91</td>\n",
       "      <td>4261.32</td>\n",
       "      <td>4308.83</td>\n",
       "      <td>44.51000</td>\n",
       "      <td>1.909529e+05</td>\n",
       "      <td>NaN</td>\n",
       "    </tr>\n",
       "  </tbody>\n",
       "</table>\n",
       "<p>46296 rows × 10 columns</p>\n",
       "</div>"
      ],
      "text/plain": [
       "               unix                 date    symbol      open      high  \\\n",
       "0      1.669684e+12  2022-11-29 01:00:00  BTC/USDT  16178.74  16309.03   \n",
       "1      1.669680e+12  2022-11-29 00:00:00  BTC/USDT  16212.18  16224.83   \n",
       "2      1.669676e+12  2022-11-28 23:00:00  BTC/USDT  16220.36  16245.92   \n",
       "3      1.669673e+12  2022-11-28 22:00:00  BTC/USDT  16200.56  16235.21   \n",
       "4      1.669669e+12  2022-11-28 21:00:00  BTC/USDT  16256.33  16262.77   \n",
       "...             ...                  ...       ...       ...       ...   \n",
       "46291  1.502957e+09  2017-08-17 08:00:00  BTC/USDT   4349.99   4377.85   \n",
       "46292  1.502953e+09  2017-08-17 07:00:00  BTC/USDT   4324.35   4349.99   \n",
       "46293  1.502950e+09  2017-08-17 06:00:00  BTC/USDT   4315.32   4345.45   \n",
       "46294  1.502946e+09  2017-08-17 05:00:00  BTC/USDT   4308.83   4328.69   \n",
       "46295  1.502942e+09  2017-08-17 04:00:00  BTC/USDT  16199.91  16199.91   \n",
       "\n",
       "            low     close  Volume BTC   Volume USDT  tradecount  \n",
       "0      16171.17  16250.77  9098.01403  1.476206e+08    227013.0  \n",
       "1      16100.00  16130.62  6565.59515  1.061095e+08    125147.0  \n",
       "2      16195.63  16212.91  4925.09556  7.988443e+07    112061.0  \n",
       "3      16195.72  16220.76  3742.40807  6.068580e+07     89180.0  \n",
       "4      16186.00  16199.59  6780.81367  1.099914e+08    155815.0  \n",
       "...         ...       ...         ...           ...         ...  \n",
       "46291   4333.32   4360.69     0.94990  4.139700e+03         NaN  \n",
       "46292   4287.41   4349.99     4.44000  1.924106e+04         NaN  \n",
       "46293   4309.37   4324.35     7.23000  3.128231e+04         NaN  \n",
       "46294   4291.37   4315.32    23.23000  1.003048e+05         NaN  \n",
       "46295   4261.32   4308.83    44.51000  1.909529e+05         NaN  \n",
       "\n",
       "[46296 rows x 10 columns]"
      ]
     },
     "execution_count": 3,
     "metadata": {},
     "output_type": "execute_result"
    }
   ],
   "source": [
    "btc_dfd = pd.read_csv('Binance_BTCUSDT_1h.csv')\n",
    "btc_dfd"
   ]
  },
  {
   "cell_type": "code",
   "execution_count": 4,
   "id": "41062755-9cca-4348-91bc-e80d46b79c3d",
   "metadata": {},
   "outputs": [],
   "source": [
    "btc_dfd['date'] = pd.to_datetime(btc_dfd['date']).dt.date\n",
    "btc_clean = btc_dfd.drop(['unix', 'symbol', 'Volume BTC', 'tradecount'], axis=1)\n",
    "# res_btc = btc_clean[~(btc_clean['date'] < pd.to_datetime(\"2018-01-01\").date())]\n",
    "# res_btc"
   ]
  },
  {
   "cell_type": "code",
   "execution_count": 5,
   "id": "cc368c1b-a82f-4dbf-85c4-f19ebff7a21a",
   "metadata": {},
   "outputs": [
    {
     "data": {
      "text/html": [
       "<div>\n",
       "<style scoped>\n",
       "    .dataframe tbody tr th:only-of-type {\n",
       "        vertical-align: middle;\n",
       "    }\n",
       "\n",
       "    .dataframe tbody tr th {\n",
       "        vertical-align: top;\n",
       "    }\n",
       "\n",
       "    .dataframe thead th {\n",
       "        text-align: right;\n",
       "    }\n",
       "</style>\n",
       "<table border=\"1\" class=\"dataframe\">\n",
       "  <thead>\n",
       "    <tr style=\"text-align: right;\">\n",
       "      <th></th>\n",
       "      <th>date</th>\n",
       "      <th>open</th>\n",
       "      <th>high</th>\n",
       "      <th>low</th>\n",
       "      <th>close</th>\n",
       "      <th>Volume USDT</th>\n",
       "    </tr>\n",
       "  </thead>\n",
       "  <tbody>\n",
       "    <tr>\n",
       "      <th>46295</th>\n",
       "      <td>2017-08-17</td>\n",
       "      <td>16199.91</td>\n",
       "      <td>16199.91</td>\n",
       "      <td>4261.32</td>\n",
       "      <td>4308.83</td>\n",
       "      <td>1.909529e+05</td>\n",
       "    </tr>\n",
       "    <tr>\n",
       "      <th>46294</th>\n",
       "      <td>2017-08-17</td>\n",
       "      <td>4308.83</td>\n",
       "      <td>4328.69</td>\n",
       "      <td>4291.37</td>\n",
       "      <td>4315.32</td>\n",
       "      <td>1.003048e+05</td>\n",
       "    </tr>\n",
       "    <tr>\n",
       "      <th>46293</th>\n",
       "      <td>2017-08-17</td>\n",
       "      <td>4315.32</td>\n",
       "      <td>4345.45</td>\n",
       "      <td>4309.37</td>\n",
       "      <td>4324.35</td>\n",
       "      <td>3.128231e+04</td>\n",
       "    </tr>\n",
       "    <tr>\n",
       "      <th>46292</th>\n",
       "      <td>2017-08-17</td>\n",
       "      <td>4324.35</td>\n",
       "      <td>4349.99</td>\n",
       "      <td>4287.41</td>\n",
       "      <td>4349.99</td>\n",
       "      <td>1.924106e+04</td>\n",
       "    </tr>\n",
       "    <tr>\n",
       "      <th>46291</th>\n",
       "      <td>2017-08-17</td>\n",
       "      <td>4349.99</td>\n",
       "      <td>4377.85</td>\n",
       "      <td>4333.32</td>\n",
       "      <td>4360.69</td>\n",
       "      <td>4.139700e+03</td>\n",
       "    </tr>\n",
       "    <tr>\n",
       "      <th>...</th>\n",
       "      <td>...</td>\n",
       "      <td>...</td>\n",
       "      <td>...</td>\n",
       "      <td>...</td>\n",
       "      <td>...</td>\n",
       "      <td>...</td>\n",
       "    </tr>\n",
       "    <tr>\n",
       "      <th>4</th>\n",
       "      <td>2022-11-28</td>\n",
       "      <td>16256.33</td>\n",
       "      <td>16262.77</td>\n",
       "      <td>16186.00</td>\n",
       "      <td>16199.59</td>\n",
       "      <td>1.099914e+08</td>\n",
       "    </tr>\n",
       "    <tr>\n",
       "      <th>3</th>\n",
       "      <td>2022-11-28</td>\n",
       "      <td>16200.56</td>\n",
       "      <td>16235.21</td>\n",
       "      <td>16195.72</td>\n",
       "      <td>16220.76</td>\n",
       "      <td>6.068580e+07</td>\n",
       "    </tr>\n",
       "    <tr>\n",
       "      <th>2</th>\n",
       "      <td>2022-11-28</td>\n",
       "      <td>16220.36</td>\n",
       "      <td>16245.92</td>\n",
       "      <td>16195.63</td>\n",
       "      <td>16212.91</td>\n",
       "      <td>7.988443e+07</td>\n",
       "    </tr>\n",
       "    <tr>\n",
       "      <th>1</th>\n",
       "      <td>2022-11-29</td>\n",
       "      <td>16212.18</td>\n",
       "      <td>16224.83</td>\n",
       "      <td>16100.00</td>\n",
       "      <td>16130.62</td>\n",
       "      <td>1.061095e+08</td>\n",
       "    </tr>\n",
       "    <tr>\n",
       "      <th>0</th>\n",
       "      <td>2022-11-29</td>\n",
       "      <td>16178.74</td>\n",
       "      <td>16309.03</td>\n",
       "      <td>16171.17</td>\n",
       "      <td>16250.77</td>\n",
       "      <td>1.476206e+08</td>\n",
       "    </tr>\n",
       "  </tbody>\n",
       "</table>\n",
       "<p>46296 rows × 6 columns</p>\n",
       "</div>"
      ],
      "text/plain": [
       "             date      open      high       low     close   Volume USDT\n",
       "46295  2017-08-17  16199.91  16199.91   4261.32   4308.83  1.909529e+05\n",
       "46294  2017-08-17   4308.83   4328.69   4291.37   4315.32  1.003048e+05\n",
       "46293  2017-08-17   4315.32   4345.45   4309.37   4324.35  3.128231e+04\n",
       "46292  2017-08-17   4324.35   4349.99   4287.41   4349.99  1.924106e+04\n",
       "46291  2017-08-17   4349.99   4377.85   4333.32   4360.69  4.139700e+03\n",
       "...           ...       ...       ...       ...       ...           ...\n",
       "4      2022-11-28  16256.33  16262.77  16186.00  16199.59  1.099914e+08\n",
       "3      2022-11-28  16200.56  16235.21  16195.72  16220.76  6.068580e+07\n",
       "2      2022-11-28  16220.36  16245.92  16195.63  16212.91  7.988443e+07\n",
       "1      2022-11-29  16212.18  16224.83  16100.00  16130.62  1.061095e+08\n",
       "0      2022-11-29  16178.74  16309.03  16171.17  16250.77  1.476206e+08\n",
       "\n",
       "[46296 rows x 6 columns]"
      ]
     },
     "execution_count": 5,
     "metadata": {},
     "output_type": "execute_result"
    }
   ],
   "source": [
    "btc = btc_clean.iloc[::-1]\n",
    "btc"
   ]
  },
  {
   "cell_type": "code",
   "execution_count": 6,
   "id": "483f3731-9efb-47c6-af9c-6eadc95287e3",
   "metadata": {},
   "outputs": [],
   "source": [
    "btc = btc[['open', 'high', 'low', 'Volume USDT', 'close']]"
   ]
  },
  {
   "cell_type": "code",
   "execution_count": 7,
   "id": "c538c834-3cdb-4949-9599-187261b0a80b",
   "metadata": {},
   "outputs": [
    {
     "data": {
      "text/html": [
       "<div>\n",
       "<style scoped>\n",
       "    .dataframe tbody tr th:only-of-type {\n",
       "        vertical-align: middle;\n",
       "    }\n",
       "\n",
       "    .dataframe tbody tr th {\n",
       "        vertical-align: top;\n",
       "    }\n",
       "\n",
       "    .dataframe thead th {\n",
       "        text-align: right;\n",
       "    }\n",
       "</style>\n",
       "<table border=\"1\" class=\"dataframe\">\n",
       "  <thead>\n",
       "    <tr style=\"text-align: right;\">\n",
       "      <th></th>\n",
       "      <th>open</th>\n",
       "      <th>high</th>\n",
       "      <th>low</th>\n",
       "      <th>Volume USDT</th>\n",
       "      <th>close</th>\n",
       "    </tr>\n",
       "  </thead>\n",
       "  <tbody>\n",
       "    <tr>\n",
       "      <th>0</th>\n",
       "      <td>16199.91</td>\n",
       "      <td>16199.91</td>\n",
       "      <td>4261.32</td>\n",
       "      <td>1.909529e+05</td>\n",
       "      <td>4308.83</td>\n",
       "    </tr>\n",
       "    <tr>\n",
       "      <th>1</th>\n",
       "      <td>4308.83</td>\n",
       "      <td>4328.69</td>\n",
       "      <td>4291.37</td>\n",
       "      <td>1.003048e+05</td>\n",
       "      <td>4315.32</td>\n",
       "    </tr>\n",
       "    <tr>\n",
       "      <th>2</th>\n",
       "      <td>4315.32</td>\n",
       "      <td>4345.45</td>\n",
       "      <td>4309.37</td>\n",
       "      <td>3.128231e+04</td>\n",
       "      <td>4324.35</td>\n",
       "    </tr>\n",
       "    <tr>\n",
       "      <th>3</th>\n",
       "      <td>4324.35</td>\n",
       "      <td>4349.99</td>\n",
       "      <td>4287.41</td>\n",
       "      <td>1.924106e+04</td>\n",
       "      <td>4349.99</td>\n",
       "    </tr>\n",
       "    <tr>\n",
       "      <th>4</th>\n",
       "      <td>4349.99</td>\n",
       "      <td>4377.85</td>\n",
       "      <td>4333.32</td>\n",
       "      <td>4.139700e+03</td>\n",
       "      <td>4360.69</td>\n",
       "    </tr>\n",
       "    <tr>\n",
       "      <th>...</th>\n",
       "      <td>...</td>\n",
       "      <td>...</td>\n",
       "      <td>...</td>\n",
       "      <td>...</td>\n",
       "      <td>...</td>\n",
       "    </tr>\n",
       "    <tr>\n",
       "      <th>46291</th>\n",
       "      <td>16256.33</td>\n",
       "      <td>16262.77</td>\n",
       "      <td>16186.00</td>\n",
       "      <td>1.099914e+08</td>\n",
       "      <td>16199.59</td>\n",
       "    </tr>\n",
       "    <tr>\n",
       "      <th>46292</th>\n",
       "      <td>16200.56</td>\n",
       "      <td>16235.21</td>\n",
       "      <td>16195.72</td>\n",
       "      <td>6.068580e+07</td>\n",
       "      <td>16220.76</td>\n",
       "    </tr>\n",
       "    <tr>\n",
       "      <th>46293</th>\n",
       "      <td>16220.36</td>\n",
       "      <td>16245.92</td>\n",
       "      <td>16195.63</td>\n",
       "      <td>7.988443e+07</td>\n",
       "      <td>16212.91</td>\n",
       "    </tr>\n",
       "    <tr>\n",
       "      <th>46294</th>\n",
       "      <td>16212.18</td>\n",
       "      <td>16224.83</td>\n",
       "      <td>16100.00</td>\n",
       "      <td>1.061095e+08</td>\n",
       "      <td>16130.62</td>\n",
       "    </tr>\n",
       "    <tr>\n",
       "      <th>46295</th>\n",
       "      <td>16178.74</td>\n",
       "      <td>16309.03</td>\n",
       "      <td>16171.17</td>\n",
       "      <td>1.476206e+08</td>\n",
       "      <td>16250.77</td>\n",
       "    </tr>\n",
       "  </tbody>\n",
       "</table>\n",
       "<p>46296 rows × 5 columns</p>\n",
       "</div>"
      ],
      "text/plain": [
       "           open      high       low   Volume USDT     close\n",
       "0      16199.91  16199.91   4261.32  1.909529e+05   4308.83\n",
       "1       4308.83   4328.69   4291.37  1.003048e+05   4315.32\n",
       "2       4315.32   4345.45   4309.37  3.128231e+04   4324.35\n",
       "3       4324.35   4349.99   4287.41  1.924106e+04   4349.99\n",
       "4       4349.99   4377.85   4333.32  4.139700e+03   4360.69\n",
       "...         ...       ...       ...           ...       ...\n",
       "46291  16256.33  16262.77  16186.00  1.099914e+08  16199.59\n",
       "46292  16200.56  16235.21  16195.72  6.068580e+07  16220.76\n",
       "46293  16220.36  16245.92  16195.63  7.988443e+07  16212.91\n",
       "46294  16212.18  16224.83  16100.00  1.061095e+08  16130.62\n",
       "46295  16178.74  16309.03  16171.17  1.476206e+08  16250.77\n",
       "\n",
       "[46296 rows x 5 columns]"
      ]
     },
     "execution_count": 7,
     "metadata": {},
     "output_type": "execute_result"
    }
   ],
   "source": [
    "model_data = btc.reset_index(drop=True)\n",
    "model_data"
   ]
  },
  {
   "cell_type": "code",
   "execution_count": 8,
   "id": "140ecfee-f8cf-45f6-b3c6-49e8e7458101",
   "metadata": {},
   "outputs": [
    {
     "data": {
      "text/plain": [
       "94"
      ]
     },
     "execution_count": 8,
     "metadata": {},
     "output_type": "execute_result"
    }
   ],
   "source": [
    "btc.duplicated().sum()"
   ]
  },
  {
   "cell_type": "code",
   "execution_count": 9,
   "id": "c42a7847-70b8-4487-a874-67e370666724",
   "metadata": {},
   "outputs": [
    {
     "name": "stdout",
     "output_type": "stream",
     "text": [
      "           open      high       low  Volume USDT     close\n",
      "45802   4619.43   4619.43   4619.43          0.0   4619.43\n",
      "45801   4619.43   4619.43   4619.43          0.0   4619.43\n",
      "45800   4619.43   4619.43   4619.43          0.0   4619.43\n",
      "45799   4619.43   4619.43   4619.43          0.0   4619.43\n",
      "45798   4619.43   4619.43   4619.43          0.0   4619.43\n",
      "...         ...       ...       ...          ...       ...\n",
      "24304  10148.93  10148.93  10148.93          0.0  10148.93\n",
      "24303  10148.93  10148.93  10148.93          0.0  10148.93\n",
      "22732   7480.78   7480.78   7480.78          0.0   7480.78\n",
      "21196   8971.80   8971.80   8971.80          0.0   8971.80\n",
      "21195   8971.80   8971.80   8971.80          0.0   8971.80\n",
      "\n",
      "[94 rows x 5 columns]\n"
     ]
    }
   ],
   "source": [
    "duplicates = btc[btc.duplicated()]\n",
    "print(duplicates)"
   ]
  },
  {
   "cell_type": "code",
   "execution_count": 10,
   "id": "a8e525a6-83d0-4c8b-9875-33e0e15480ae",
   "metadata": {},
   "outputs": [],
   "source": [
    "# No duplicated data"
   ]
  },
  {
   "cell_type": "code",
   "execution_count": 11,
   "id": "08213717-a303-4c9e-97bb-280204035109",
   "metadata": {},
   "outputs": [
    {
     "data": {
      "text/plain": [
       "open           0\n",
       "high           0\n",
       "low            0\n",
       "Volume USDT    0\n",
       "close          0\n",
       "dtype: int64"
      ]
     },
     "execution_count": 11,
     "metadata": {},
     "output_type": "execute_result"
    }
   ],
   "source": [
    "btc.isnull().sum()"
   ]
  },
  {
   "cell_type": "code",
   "execution_count": 12,
   "id": "aff76bd7-16f2-4bf2-8a64-f1f6a1194661",
   "metadata": {},
   "outputs": [],
   "source": [
    "# No missing value"
   ]
  },
  {
   "cell_type": "code",
   "execution_count": 13,
   "id": "51dc56af-5903-45ab-a70b-556fb3f3d97a",
   "metadata": {},
   "outputs": [],
   "source": [
    "scaler = MinMaxScaler()\n",
    "close_df = scaler.fit_transform(np.array(model_data))"
   ]
  },
  {
   "cell_type": "code",
   "execution_count": 14,
   "id": "d98152d5-e8c5-4645-90ea-876a042b25e0",
   "metadata": {},
   "outputs": [
    {
     "data": {
      "text/plain": [
       "array([[2.02095163e-01, 2.00604239e-01, 2.20056041e-02, 6.35316446e-05,\n",
       "        2.11494568e-02],\n",
       "       [2.11489966e-02, 2.08734292e-02, 2.24634447e-02, 3.33722706e-05,\n",
       "        2.12482171e-02],\n",
       "       [2.12477547e-02, 2.11271764e-02, 2.27376920e-02, 1.04078918e-05,\n",
       "        2.13856293e-02],\n",
       "       ...,\n",
       "       [2.02406350e-01, 2.01300833e-01, 2.03836293e-01, 2.65782331e-02,\n",
       "        2.02297386e-01],\n",
       "       [2.02281875e-01, 2.00981529e-01, 2.02379278e-01, 3.53035421e-02,\n",
       "        2.01045154e-01],\n",
       "       [2.01773020e-01, 2.02256321e-01, 2.03463622e-01, 4.91146513e-02,\n",
       "        2.02873513e-01]])"
      ]
     },
     "execution_count": 14,
     "metadata": {},
     "output_type": "execute_result"
    }
   ],
   "source": [
    "close_df"
   ]
  },
  {
   "cell_type": "code",
   "execution_count": 15,
   "id": "50d04ca0-f51f-465b-8229-af015c624039",
   "metadata": {},
   "outputs": [
    {
     "name": "stdout",
     "output_type": "stream",
     "text": [
      "train_data:  (37036, 5)\n",
      "test_data:  (9260, 5)\n"
     ]
    }
   ],
   "source": [
    "training_size = int(len(close_df)*0.8)\n",
    "test_size = len(close_df)-training_size\n",
    "train_data,test_data = close_df[0:training_size,:],close_df[training_size:len(close_df),:]\n",
    "print('train_data: ', train_data.shape)\n",
    "print('test_data: ', test_data.shape)"
   ]
  },
  {
   "cell_type": "code",
   "execution_count": 16,
   "id": "5d06c56c-8ef3-4e92-8c96-99b93dbaaa28",
   "metadata": {},
   "outputs": [],
   "source": [
    "# convert an array of values into a dataset matrix\n",
    "def create_dataset(dataset, time_step=1):\n",
    "    dataX = []\n",
    "    dataY = []\n",
    "    for i in range(len(dataset)-time_step-1):\n",
    "        a = dataset[i:(i+time_step)]  \n",
    "        b = dataset[i+time_step][4]\n",
    "        # print(a)\n",
    "        # print(type(b))\n",
    "        dataX.append(a)\n",
    "        dataY.append(float(b))\n",
    "    \n",
    "    return np.array(dataX), np.array(dataY)"
   ]
  },
  {
   "cell_type": "code",
   "execution_count": 17,
   "id": "894700da-fd83-4d14-bedd-39f52b99890f",
   "metadata": {},
   "outputs": [
    {
     "name": "stdout",
     "output_type": "stream",
     "text": [
      "X_train:  (37025, 10, 5)\n",
      "X_test:  (9249, 10, 5)\n"
     ]
    }
   ],
   "source": [
    "time_step = 10\n",
    "X_train, y_train = create_dataset(train_data, time_step)\n",
    "X_test, y_test = create_dataset(test_data, time_step)\n",
    "# reshape input to be [samples, time steps, features] which is required for LSTM\n",
    "# X_train = X_train.reshape(X_train.shape[0],X_train.shape[1] , 1)\n",
    "# X_test = X_test.reshape(X_test.shape[0],X_test.shape[1] , 1)\n",
    "print(\"X_train: \", X_train.shape)\n",
    "print(\"X_test: \", X_test.shape)"
   ]
  },
  {
   "cell_type": "code",
   "execution_count": 30,
   "id": "7f4b787e-f47b-459d-97fa-887ef0780417",
   "metadata": {},
   "outputs": [
    {
     "data": {
      "text/plain": [
       "array([[[2.02095163e-01, 2.00604239e-01, 2.20056041e-02, 6.35316446e-05,\n",
       "         2.11494568e-02],\n",
       "        [2.11489966e-02, 2.08734292e-02, 2.24634447e-02, 3.33722706e-05,\n",
       "         2.12482171e-02],\n",
       "        [2.12477547e-02, 2.11271764e-02, 2.27376920e-02, 1.04078918e-05,\n",
       "         2.13856293e-02],\n",
       "        ...,\n",
       "        [2.34493455e-02, 2.32458743e-02, 2.45344690e-02, 4.01750790e-05,\n",
       "         2.29522501e-02],\n",
       "        [2.29517507e-02, 2.27034065e-02, 2.42861228e-02, 3.39783657e-05,\n",
       "         2.27042081e-02],\n",
       "        [2.27037141e-02, 2.28463285e-02, 2.42861228e-02, 4.54198898e-05,\n",
       "         2.34346384e-02]],\n",
       "\n",
       "       [[2.11489966e-02, 2.08734292e-02, 2.24634447e-02, 3.33722706e-05,\n",
       "         2.12482171e-02],\n",
       "        [2.12477547e-02, 2.11271764e-02, 2.27376920e-02, 1.04078918e-05,\n",
       "         2.13856293e-02],\n",
       "        [2.13851639e-02, 2.11959122e-02, 2.24031103e-02, 6.40166505e-06,\n",
       "         2.17758008e-02],\n",
       "        ...,\n",
       "        [2.29517507e-02, 2.27034065e-02, 2.42861228e-02, 3.39783657e-05,\n",
       "         2.27042081e-02],\n",
       "        [2.27037141e-02, 2.28463285e-02, 2.42861228e-02, 4.54198898e-05,\n",
       "         2.34346384e-02],\n",
       "        [2.34341285e-02, 2.32458743e-02, 2.46659554e-02, 7.68129038e-05,\n",
       "         2.36145069e-02]],\n",
       "\n",
       "       [[2.12477547e-02, 2.11271764e-02, 2.27376920e-02, 1.04078918e-05,\n",
       "         2.13856293e-02],\n",
       "        [2.13851639e-02, 2.11959122e-02, 2.24031103e-02, 6.40166505e-06,\n",
       "         2.17758008e-02],\n",
       "        [2.17753270e-02, 2.16177139e-02, 2.31025933e-02, 1.37731356e-06,\n",
       "         2.19386259e-02],\n",
       "        ...,\n",
       "        [2.27037141e-02, 2.28463285e-02, 2.42861228e-02, 4.54198898e-05,\n",
       "         2.34346384e-02],\n",
       "        [2.34341285e-02, 2.32458743e-02, 2.46659554e-02, 7.68129038e-05,\n",
       "         2.36145069e-02],\n",
       "        [2.36139930e-02, 2.30252839e-02, 2.31041169e-02, 9.95546440e-05,\n",
       "         2.18115615e-02]],\n",
       "\n",
       "       ...,\n",
       "\n",
       "       [[8.98090149e-01, 8.98087207e-01, 9.00668996e-01, 2.87595236e-02,\n",
       "         8.99692900e-01],\n",
       "        [8.99673474e-01, 9.01256624e-01, 9.02075427e-01, 2.44236908e-02,\n",
       "         9.05825014e-01],\n",
       "        [9.05805303e-01, 9.01581226e-01, 9.02935955e-01, 2.46445737e-02,\n",
       "         9.05685472e-01],\n",
       "        ...,\n",
       "        [9.11587446e-01, 9.13495079e-01, 9.13021552e-01, 2.19682563e-02,\n",
       "         9.18433763e-01],\n",
       "        [9.18413625e-01, 9.40059955e-01, 9.21114133e-01, 1.71733216e-01,\n",
       "         9.44700188e-01],\n",
       "        [9.44679631e-01, 9.49115519e-01, 9.46462812e-01, 9.59146083e-02,\n",
       "         9.45880898e-01]],\n",
       "\n",
       "       [[8.99673474e-01, 9.01256624e-01, 9.02075427e-01, 2.44236908e-02,\n",
       "         9.05825014e-01],\n",
       "        [9.05805303e-01, 9.01581226e-01, 9.02935955e-01, 2.46445737e-02,\n",
       "         9.05685472e-01],\n",
       "        [9.05665764e-01, 9.01544285e-01, 9.03548593e-01, 1.33944493e-02,\n",
       "         9.03094422e-01],\n",
       "        ...,\n",
       "        [9.18413625e-01, 9.40059955e-01, 9.21114133e-01, 1.71733216e-01,\n",
       "         9.44700188e-01],\n",
       "        [9.44679631e-01, 9.49115519e-01, 9.46462812e-01, 9.59146083e-02,\n",
       "         9.45880898e-01],\n",
       "        [9.45860316e-01, 9.44422559e-01, 9.48069139e-01, 3.48669525e-02,\n",
       "         9.45893833e-01]],\n",
       "\n",
       "       [[9.05805303e-01, 9.01581226e-01, 9.02935955e-01, 2.46445737e-02,\n",
       "         9.05685472e-01],\n",
       "        [9.05665764e-01, 9.01544285e-01, 9.03548593e-01, 1.33944493e-02,\n",
       "         9.03094422e-01],\n",
       "        [9.03074771e-01, 9.06131718e-01, 9.04136853e-01, 2.72894962e-02,\n",
       "         9.09005125e-01],\n",
       "        ...,\n",
       "        [9.44679631e-01, 9.49115519e-01, 9.46462812e-01, 9.59146083e-02,\n",
       "         9.45880898e-01],\n",
       "        [9.45860316e-01, 9.44422559e-01, 9.48069139e-01, 3.48669525e-02,\n",
       "         9.45893833e-01],\n",
       "        [9.45873098e-01, 9.43001968e-01, 9.46903893e-01, 3.38499501e-02,\n",
       "         9.47748365e-01]]])"
      ]
     },
     "execution_count": 30,
     "metadata": {},
     "output_type": "execute_result"
    }
   ],
   "source": [
    "X_train"
   ]
  },
  {
   "cell_type": "code",
   "execution_count": 19,
   "id": "6dd6b140-b080-4165-bab5-3736ec95b4e5",
   "metadata": {},
   "outputs": [
    {
     "data": {
      "text/plain": [
       "array([0.02361451, 0.02181156, 0.02183956, ..., 0.94589383, 0.94774836,\n",
       "       0.94726461])"
      ]
     },
     "execution_count": 19,
     "metadata": {},
     "output_type": "execute_result"
    }
   ],
   "source": [
    "y_train"
   ]
  },
  {
   "cell_type": "code",
   "execution_count": 20,
   "id": "51f6e253-7b00-4bb2-95dd-4a4a70061cb7",
   "metadata": {},
   "outputs": [],
   "source": [
    "train_X = X_train\n",
    "train_y = y_train\n",
    "test_X = X_test\n",
    "test_y = y_test"
   ]
  },
  {
   "cell_type": "code",
   "execution_count": 21,
   "id": "869ef0ff-56bc-45e3-aed4-a88338222b36",
   "metadata": {},
   "outputs": [
    {
     "name": "stdout",
     "output_type": "stream",
     "text": [
      "(37025, 10, 5) (37025,) (9249, 10, 5) (9249,)\n"
     ]
    }
   ],
   "source": [
    "print(train_X.shape, train_y.shape, test_X.shape, test_y.shape)"
   ]
  },
  {
   "cell_type": "markdown",
   "id": "cf43011a-1b18-4fef-b638-d84109a5347b",
   "metadata": {},
   "source": [
    "## Model Training"
   ]
  },
  {
   "cell_type": "code",
   "execution_count": 22,
   "id": "7c6e3c5f-f40b-427b-bbf6-715de9fbfed4",
   "metadata": {},
   "outputs": [
    {
     "data": {
      "text/plain": [
       "[(16, 25, 50),\n",
       " (16, 25, 60),\n",
       " (16, 25, 100),\n",
       " (16, 50, 50),\n",
       " (16, 50, 60),\n",
       " (16, 50, 100),\n",
       " (16, 100, 50),\n",
       " (16, 100, 60),\n",
       " (16, 100, 100),\n",
       " (32, 25, 50),\n",
       " (32, 25, 60),\n",
       " (32, 25, 100),\n",
       " (32, 50, 50),\n",
       " (32, 50, 60),\n",
       " (32, 50, 100),\n",
       " (32, 100, 50),\n",
       " (32, 100, 60),\n",
       " (32, 100, 100),\n",
       " (64, 25, 50),\n",
       " (64, 25, 60),\n",
       " (64, 25, 100),\n",
       " (64, 50, 50),\n",
       " (64, 50, 60),\n",
       " (64, 50, 100),\n",
       " (64, 100, 50),\n",
       " (64, 100, 60),\n",
       " (64, 100, 100)]"
      ]
     },
     "execution_count": 22,
     "metadata": {},
     "output_type": "execute_result"
    }
   ],
   "source": [
    "hyperparams = []\n",
    "batch = [16, 32, 64]\n",
    "epoch = [25, 50, 100]\n",
    "neuron = [50, 60, 100]\n",
    "for j in batch:\n",
    "    for k in epoch:\n",
    "        for l in neuron:\n",
    "            hyperparams.append((j,k,l))\n",
    "hyperparams"
   ]
  },
  {
   "cell_type": "code",
   "execution_count": 27,
   "id": "c52fc162-d986-4cb9-9893-7619681dfc70",
   "metadata": {},
   "outputs": [
    {
     "data": {
      "text/plain": [
       "[(16, 25, 50),\n",
       " (16, 25, 60),\n",
       " (16, 25, 100),\n",
       " (16, 50, 50),\n",
       " (16, 50, 60),\n",
       " (16, 50, 100),\n",
       " (16, 100, 50),\n",
       " (16, 100, 60),\n",
       " (16, 100, 100)]"
      ]
     },
     "execution_count": 27,
     "metadata": {},
     "output_type": "execute_result"
    }
   ],
   "source": [
    "hyperparam1 = hyperparams[:9]\n",
    "hyperparam2 = hyperparams[9:18]\n",
    "hyperparam3 = hyperparams[18:27]\n",
    "hyperparam1"
   ]
  },
  {
   "cell_type": "code",
   "execution_count": 24,
   "id": "d42226bd-8cc7-4f34-bb16-195c46f1e33e",
   "metadata": {},
   "outputs": [
    {
     "data": {
      "text/plain": [
       "[(32, 25, 50),\n",
       " (32, 25, 60),\n",
       " (32, 25, 100),\n",
       " (32, 50, 50),\n",
       " (32, 50, 60),\n",
       " (32, 50, 100),\n",
       " (32, 100, 50),\n",
       " (32, 100, 60),\n",
       " (32, 100, 100)]"
      ]
     },
     "execution_count": 24,
     "metadata": {},
     "output_type": "execute_result"
    }
   ],
   "source": [
    "hyperparam2"
   ]
  },
  {
   "cell_type": "code",
   "execution_count": 25,
   "id": "ed77be16-ab42-4b03-b115-2019aff75427",
   "metadata": {},
   "outputs": [
    {
     "data": {
      "text/plain": [
       "[(64, 25, 50),\n",
       " (64, 25, 60),\n",
       " (64, 25, 100),\n",
       " (64, 50, 50),\n",
       " (64, 50, 60),\n",
       " (64, 50, 100),\n",
       " (64, 100, 50),\n",
       " (64, 100, 60),\n",
       " (64, 100, 100)]"
      ]
     },
     "execution_count": 25,
     "metadata": {},
     "output_type": "execute_result"
    }
   ],
   "source": [
    "hyperparam3"
   ]
  },
  {
   "cell_type": "code",
   "execution_count": null,
   "id": "327f83dc-5358-43d9-88df-f4b70afa1dfd",
   "metadata": {},
   "outputs": [],
   "source": [
    "%run Evaluation.ipynb"
   ]
  },
  {
   "cell_type": "code",
   "execution_count": 26,
   "id": "3ffd8dc1-5eb8-4d7e-aba2-cab78df020ae",
   "metadata": {},
   "outputs": [
    {
     "name": "stdout",
     "output_type": "stream",
     "text": [
      "Metal device set to: Apple M1\n"
     ]
    },
    {
     "name": "stderr",
     "output_type": "stream",
     "text": [
      "2023-02-16 13:08:01.889842: I tensorflow/core/common_runtime/pluggable_device/pluggable_device_factory.cc:306] Could not identify NUMA node of platform GPU ID 0, defaulting to 0. Your kernel may not have been built with NUMA support.\n",
      "2023-02-16 13:08:01.890429: I tensorflow/core/common_runtime/pluggable_device/pluggable_device_factory.cc:272] Created TensorFlow device (/job:localhost/replica:0/task:0/device:GPU:0 with 0 MB memory) -> physical PluggableDevice (device: 0, name: METAL, pci bus id: <undefined>)\n"
     ]
    },
    {
     "name": "stdout",
     "output_type": "stream",
     "text": [
      "Epoch 1/25\n"
     ]
    },
    {
     "name": "stderr",
     "output_type": "stream",
     "text": [
      "2023-02-16 13:08:02.175188: W tensorflow/core/platform/profile_utils/cpu_utils.cc:128] Failed to get CPU frequency: 0 Hz\n",
      "2023-02-16 13:08:02.647370: I tensorflow/core/grappler/optimizers/custom_graph_optimizer_registry.cc:114] Plugin optimizer for device_type GPU is enabled.\n",
      "2023-02-16 13:08:02.737415: I tensorflow/core/grappler/optimizers/custom_graph_optimizer_registry.cc:114] Plugin optimizer for device_type GPU is enabled.\n",
      "2023-02-16 13:08:02.877499: I tensorflow/core/grappler/optimizers/custom_graph_optimizer_registry.cc:114] Plugin optimizer for device_type GPU is enabled.\n",
      "2023-02-16 13:08:21.906680: I tensorflow/core/grappler/optimizers/custom_graph_optimizer_registry.cc:114] Plugin optimizer for device_type GPU is enabled.\n",
      "2023-02-16 13:08:21.934885: I tensorflow/core/grappler/optimizers/custom_graph_optimizer_registry.cc:114] Plugin optimizer for device_type GPU is enabled.\n"
     ]
    },
    {
     "name": "stdout",
     "output_type": "stream",
     "text": [
      "2315/2315 - 22s - loss: 8.7647e-05 - val_loss: 0.0251 - 22s/epoch - 10ms/step\n",
      "Epoch 2/25\n",
      "2315/2315 - 19s - loss: 9.9107e-05 - val_loss: 0.0086 - 19s/epoch - 8ms/step\n",
      "Epoch 3/25\n"
     ]
    },
    {
     "ename": "KeyboardInterrupt",
     "evalue": "",
     "output_type": "error",
     "traceback": [
      "\u001b[0;31m---------------------------------------------------------------------------\u001b[0m",
      "\u001b[0;31mKeyboardInterrupt\u001b[0m                         Traceback (most recent call last)",
      "Cell \u001b[0;32mIn [26], line 8\u001b[0m\n\u001b[1;32m      6\u001b[0m model\u001b[38;5;241m.\u001b[39madd(Dense(units\u001b[38;5;241m=\u001b[39m\u001b[38;5;241m1\u001b[39m))\n\u001b[1;32m      7\u001b[0m model\u001b[38;5;241m.\u001b[39mcompile(loss\u001b[38;5;241m=\u001b[39m\u001b[38;5;124m'\u001b[39m\u001b[38;5;124mmse\u001b[39m\u001b[38;5;124m'\u001b[39m,optimizer\u001b[38;5;241m=\u001b[39m\u001b[38;5;124m'\u001b[39m\u001b[38;5;124madam\u001b[39m\u001b[38;5;124m'\u001b[39m)\n\u001b[0;32m----> 8\u001b[0m lstm \u001b[38;5;241m=\u001b[39m \u001b[43mmodel\u001b[49m\u001b[38;5;241;43m.\u001b[39;49m\u001b[43mfit\u001b[49m\u001b[43m(\u001b[49m\u001b[43mtrain_X\u001b[49m\u001b[43m,\u001b[49m\u001b[43m \u001b[49m\u001b[43mtrain_y\u001b[49m\u001b[43m,\u001b[49m\u001b[43m \u001b[49m\u001b[43mepochs\u001b[49m\u001b[38;5;241;43m=\u001b[39;49m\u001b[43mepoch\u001b[49m\u001b[43m,\u001b[49m\u001b[43m \u001b[49m\u001b[43mbatch_size\u001b[49m\u001b[38;5;241;43m=\u001b[39;49m\u001b[43mbatch\u001b[49m\u001b[43m,\u001b[49m\u001b[43m \u001b[49m\u001b[43mvalidation_data\u001b[49m\u001b[38;5;241;43m=\u001b[39;49m\u001b[43m(\u001b[49m\u001b[43mtest_X\u001b[49m\u001b[43m,\u001b[49m\u001b[43m \u001b[49m\u001b[43mtest_y\u001b[49m\u001b[43m)\u001b[49m\u001b[43m,\u001b[49m\u001b[43m \u001b[49m\u001b[43mverbose\u001b[49m\u001b[38;5;241;43m=\u001b[39;49m\u001b[38;5;241;43m2\u001b[39;49m\u001b[43m,\u001b[49m\u001b[43m \u001b[49m\u001b[43mshuffle\u001b[49m\u001b[38;5;241;43m=\u001b[39;49m\u001b[38;5;28;43;01mFalse\u001b[39;49;00m\u001b[43m)\u001b[49m\n\u001b[1;32m      9\u001b[0m lstms1\u001b[38;5;241m.\u001b[39mappend(lstm)\n\u001b[1;32m     10\u001b[0m models1\u001b[38;5;241m.\u001b[39mappend(model)\n",
      "File \u001b[0;32m~/miniforge3/envs/tensorflow_silicon/lib/python3.9/site-packages/keras/utils/traceback_utils.py:65\u001b[0m, in \u001b[0;36mfilter_traceback.<locals>.error_handler\u001b[0;34m(*args, **kwargs)\u001b[0m\n\u001b[1;32m     63\u001b[0m filtered_tb \u001b[38;5;241m=\u001b[39m \u001b[38;5;28;01mNone\u001b[39;00m\n\u001b[1;32m     64\u001b[0m \u001b[38;5;28;01mtry\u001b[39;00m:\n\u001b[0;32m---> 65\u001b[0m     \u001b[38;5;28;01mreturn\u001b[39;00m \u001b[43mfn\u001b[49m\u001b[43m(\u001b[49m\u001b[38;5;241;43m*\u001b[39;49m\u001b[43margs\u001b[49m\u001b[43m,\u001b[49m\u001b[43m \u001b[49m\u001b[38;5;241;43m*\u001b[39;49m\u001b[38;5;241;43m*\u001b[39;49m\u001b[43mkwargs\u001b[49m\u001b[43m)\u001b[49m\n\u001b[1;32m     66\u001b[0m \u001b[38;5;28;01mexcept\u001b[39;00m \u001b[38;5;167;01mException\u001b[39;00m \u001b[38;5;28;01mas\u001b[39;00m e:\n\u001b[1;32m     67\u001b[0m     filtered_tb \u001b[38;5;241m=\u001b[39m _process_traceback_frames(e\u001b[38;5;241m.\u001b[39m__traceback__)\n",
      "File \u001b[0;32m~/miniforge3/envs/tensorflow_silicon/lib/python3.9/site-packages/keras/engine/training.py:1564\u001b[0m, in \u001b[0;36mModel.fit\u001b[0;34m(self, x, y, batch_size, epochs, verbose, callbacks, validation_split, validation_data, shuffle, class_weight, sample_weight, initial_epoch, steps_per_epoch, validation_steps, validation_batch_size, validation_freq, max_queue_size, workers, use_multiprocessing)\u001b[0m\n\u001b[1;32m   1556\u001b[0m \u001b[38;5;28;01mwith\u001b[39;00m tf\u001b[38;5;241m.\u001b[39mprofiler\u001b[38;5;241m.\u001b[39mexperimental\u001b[38;5;241m.\u001b[39mTrace(\n\u001b[1;32m   1557\u001b[0m     \u001b[38;5;124m\"\u001b[39m\u001b[38;5;124mtrain\u001b[39m\u001b[38;5;124m\"\u001b[39m,\n\u001b[1;32m   1558\u001b[0m     epoch_num\u001b[38;5;241m=\u001b[39mepoch,\n\u001b[0;32m   (...)\u001b[0m\n\u001b[1;32m   1561\u001b[0m     _r\u001b[38;5;241m=\u001b[39m\u001b[38;5;241m1\u001b[39m,\n\u001b[1;32m   1562\u001b[0m ):\n\u001b[1;32m   1563\u001b[0m     callbacks\u001b[38;5;241m.\u001b[39mon_train_batch_begin(step)\n\u001b[0;32m-> 1564\u001b[0m     tmp_logs \u001b[38;5;241m=\u001b[39m \u001b[38;5;28;43mself\u001b[39;49m\u001b[38;5;241;43m.\u001b[39;49m\u001b[43mtrain_function\u001b[49m\u001b[43m(\u001b[49m\u001b[43miterator\u001b[49m\u001b[43m)\u001b[49m\n\u001b[1;32m   1565\u001b[0m     \u001b[38;5;28;01mif\u001b[39;00m data_handler\u001b[38;5;241m.\u001b[39mshould_sync:\n\u001b[1;32m   1566\u001b[0m         context\u001b[38;5;241m.\u001b[39masync_wait()\n",
      "File \u001b[0;32m~/miniforge3/envs/tensorflow_silicon/lib/python3.9/site-packages/tensorflow/python/util/traceback_utils.py:150\u001b[0m, in \u001b[0;36mfilter_traceback.<locals>.error_handler\u001b[0;34m(*args, **kwargs)\u001b[0m\n\u001b[1;32m    148\u001b[0m filtered_tb \u001b[38;5;241m=\u001b[39m \u001b[38;5;28;01mNone\u001b[39;00m\n\u001b[1;32m    149\u001b[0m \u001b[38;5;28;01mtry\u001b[39;00m:\n\u001b[0;32m--> 150\u001b[0m   \u001b[38;5;28;01mreturn\u001b[39;00m \u001b[43mfn\u001b[49m\u001b[43m(\u001b[49m\u001b[38;5;241;43m*\u001b[39;49m\u001b[43margs\u001b[49m\u001b[43m,\u001b[49m\u001b[43m \u001b[49m\u001b[38;5;241;43m*\u001b[39;49m\u001b[38;5;241;43m*\u001b[39;49m\u001b[43mkwargs\u001b[49m\u001b[43m)\u001b[49m\n\u001b[1;32m    151\u001b[0m \u001b[38;5;28;01mexcept\u001b[39;00m \u001b[38;5;167;01mException\u001b[39;00m \u001b[38;5;28;01mas\u001b[39;00m e:\n\u001b[1;32m    152\u001b[0m   filtered_tb \u001b[38;5;241m=\u001b[39m _process_traceback_frames(e\u001b[38;5;241m.\u001b[39m__traceback__)\n",
      "File \u001b[0;32m~/miniforge3/envs/tensorflow_silicon/lib/python3.9/site-packages/tensorflow/python/eager/def_function.py:915\u001b[0m, in \u001b[0;36mFunction.__call__\u001b[0;34m(self, *args, **kwds)\u001b[0m\n\u001b[1;32m    912\u001b[0m compiler \u001b[38;5;241m=\u001b[39m \u001b[38;5;124m\"\u001b[39m\u001b[38;5;124mxla\u001b[39m\u001b[38;5;124m\"\u001b[39m \u001b[38;5;28;01mif\u001b[39;00m \u001b[38;5;28mself\u001b[39m\u001b[38;5;241m.\u001b[39m_jit_compile \u001b[38;5;28;01melse\u001b[39;00m \u001b[38;5;124m\"\u001b[39m\u001b[38;5;124mnonXla\u001b[39m\u001b[38;5;124m\"\u001b[39m\n\u001b[1;32m    914\u001b[0m \u001b[38;5;28;01mwith\u001b[39;00m OptionalXlaContext(\u001b[38;5;28mself\u001b[39m\u001b[38;5;241m.\u001b[39m_jit_compile):\n\u001b[0;32m--> 915\u001b[0m   result \u001b[38;5;241m=\u001b[39m \u001b[38;5;28;43mself\u001b[39;49m\u001b[38;5;241;43m.\u001b[39;49m\u001b[43m_call\u001b[49m\u001b[43m(\u001b[49m\u001b[38;5;241;43m*\u001b[39;49m\u001b[43margs\u001b[49m\u001b[43m,\u001b[49m\u001b[43m \u001b[49m\u001b[38;5;241;43m*\u001b[39;49m\u001b[38;5;241;43m*\u001b[39;49m\u001b[43mkwds\u001b[49m\u001b[43m)\u001b[49m\n\u001b[1;32m    917\u001b[0m new_tracing_count \u001b[38;5;241m=\u001b[39m \u001b[38;5;28mself\u001b[39m\u001b[38;5;241m.\u001b[39mexperimental_get_tracing_count()\n\u001b[1;32m    918\u001b[0m without_tracing \u001b[38;5;241m=\u001b[39m (tracing_count \u001b[38;5;241m==\u001b[39m new_tracing_count)\n",
      "File \u001b[0;32m~/miniforge3/envs/tensorflow_silicon/lib/python3.9/site-packages/tensorflow/python/eager/def_function.py:947\u001b[0m, in \u001b[0;36mFunction._call\u001b[0;34m(self, *args, **kwds)\u001b[0m\n\u001b[1;32m    944\u001b[0m   \u001b[38;5;28mself\u001b[39m\u001b[38;5;241m.\u001b[39m_lock\u001b[38;5;241m.\u001b[39mrelease()\n\u001b[1;32m    945\u001b[0m   \u001b[38;5;66;03m# In this case we have created variables on the first call, so we run the\u001b[39;00m\n\u001b[1;32m    946\u001b[0m   \u001b[38;5;66;03m# defunned version which is guaranteed to never create variables.\u001b[39;00m\n\u001b[0;32m--> 947\u001b[0m   \u001b[38;5;28;01mreturn\u001b[39;00m \u001b[38;5;28;43mself\u001b[39;49m\u001b[38;5;241;43m.\u001b[39;49m\u001b[43m_stateless_fn\u001b[49m\u001b[43m(\u001b[49m\u001b[38;5;241;43m*\u001b[39;49m\u001b[43margs\u001b[49m\u001b[43m,\u001b[49m\u001b[43m \u001b[49m\u001b[38;5;241;43m*\u001b[39;49m\u001b[38;5;241;43m*\u001b[39;49m\u001b[43mkwds\u001b[49m\u001b[43m)\u001b[49m  \u001b[38;5;66;03m# pylint: disable=not-callable\u001b[39;00m\n\u001b[1;32m    948\u001b[0m \u001b[38;5;28;01melif\u001b[39;00m \u001b[38;5;28mself\u001b[39m\u001b[38;5;241m.\u001b[39m_stateful_fn \u001b[38;5;129;01mis\u001b[39;00m \u001b[38;5;129;01mnot\u001b[39;00m \u001b[38;5;28;01mNone\u001b[39;00m:\n\u001b[1;32m    949\u001b[0m   \u001b[38;5;66;03m# Release the lock early so that multiple threads can perform the call\u001b[39;00m\n\u001b[1;32m    950\u001b[0m   \u001b[38;5;66;03m# in parallel.\u001b[39;00m\n\u001b[1;32m    951\u001b[0m   \u001b[38;5;28mself\u001b[39m\u001b[38;5;241m.\u001b[39m_lock\u001b[38;5;241m.\u001b[39mrelease()\n",
      "File \u001b[0;32m~/miniforge3/envs/tensorflow_silicon/lib/python3.9/site-packages/tensorflow/python/eager/function.py:2496\u001b[0m, in \u001b[0;36mFunction.__call__\u001b[0;34m(self, *args, **kwargs)\u001b[0m\n\u001b[1;32m   2493\u001b[0m \u001b[38;5;28;01mwith\u001b[39;00m \u001b[38;5;28mself\u001b[39m\u001b[38;5;241m.\u001b[39m_lock:\n\u001b[1;32m   2494\u001b[0m   (graph_function,\n\u001b[1;32m   2495\u001b[0m    filtered_flat_args) \u001b[38;5;241m=\u001b[39m \u001b[38;5;28mself\u001b[39m\u001b[38;5;241m.\u001b[39m_maybe_define_function(args, kwargs)\n\u001b[0;32m-> 2496\u001b[0m \u001b[38;5;28;01mreturn\u001b[39;00m \u001b[43mgraph_function\u001b[49m\u001b[38;5;241;43m.\u001b[39;49m\u001b[43m_call_flat\u001b[49m\u001b[43m(\u001b[49m\n\u001b[1;32m   2497\u001b[0m \u001b[43m    \u001b[49m\u001b[43mfiltered_flat_args\u001b[49m\u001b[43m,\u001b[49m\u001b[43m \u001b[49m\u001b[43mcaptured_inputs\u001b[49m\u001b[38;5;241;43m=\u001b[39;49m\u001b[43mgraph_function\u001b[49m\u001b[38;5;241;43m.\u001b[39;49m\u001b[43mcaptured_inputs\u001b[49m\u001b[43m)\u001b[49m\n",
      "File \u001b[0;32m~/miniforge3/envs/tensorflow_silicon/lib/python3.9/site-packages/tensorflow/python/eager/function.py:1862\u001b[0m, in \u001b[0;36mConcreteFunction._call_flat\u001b[0;34m(self, args, captured_inputs, cancellation_manager)\u001b[0m\n\u001b[1;32m   1858\u001b[0m possible_gradient_type \u001b[38;5;241m=\u001b[39m gradients_util\u001b[38;5;241m.\u001b[39mPossibleTapeGradientTypes(args)\n\u001b[1;32m   1859\u001b[0m \u001b[38;5;28;01mif\u001b[39;00m (possible_gradient_type \u001b[38;5;241m==\u001b[39m gradients_util\u001b[38;5;241m.\u001b[39mPOSSIBLE_GRADIENT_TYPES_NONE\n\u001b[1;32m   1860\u001b[0m     \u001b[38;5;129;01mand\u001b[39;00m executing_eagerly):\n\u001b[1;32m   1861\u001b[0m   \u001b[38;5;66;03m# No tape is watching; skip to running the function.\u001b[39;00m\n\u001b[0;32m-> 1862\u001b[0m   \u001b[38;5;28;01mreturn\u001b[39;00m \u001b[38;5;28mself\u001b[39m\u001b[38;5;241m.\u001b[39m_build_call_outputs(\u001b[38;5;28;43mself\u001b[39;49m\u001b[38;5;241;43m.\u001b[39;49m\u001b[43m_inference_function\u001b[49m\u001b[38;5;241;43m.\u001b[39;49m\u001b[43mcall\u001b[49m\u001b[43m(\u001b[49m\n\u001b[1;32m   1863\u001b[0m \u001b[43m      \u001b[49m\u001b[43mctx\u001b[49m\u001b[43m,\u001b[49m\u001b[43m \u001b[49m\u001b[43margs\u001b[49m\u001b[43m,\u001b[49m\u001b[43m \u001b[49m\u001b[43mcancellation_manager\u001b[49m\u001b[38;5;241;43m=\u001b[39;49m\u001b[43mcancellation_manager\u001b[49m\u001b[43m)\u001b[49m)\n\u001b[1;32m   1864\u001b[0m forward_backward \u001b[38;5;241m=\u001b[39m \u001b[38;5;28mself\u001b[39m\u001b[38;5;241m.\u001b[39m_select_forward_and_backward_functions(\n\u001b[1;32m   1865\u001b[0m     args,\n\u001b[1;32m   1866\u001b[0m     possible_gradient_type,\n\u001b[1;32m   1867\u001b[0m     executing_eagerly)\n\u001b[1;32m   1868\u001b[0m forward_function, args_with_tangents \u001b[38;5;241m=\u001b[39m forward_backward\u001b[38;5;241m.\u001b[39mforward()\n",
      "File \u001b[0;32m~/miniforge3/envs/tensorflow_silicon/lib/python3.9/site-packages/tensorflow/python/eager/function.py:499\u001b[0m, in \u001b[0;36m_EagerDefinedFunction.call\u001b[0;34m(self, ctx, args, cancellation_manager)\u001b[0m\n\u001b[1;32m    497\u001b[0m \u001b[38;5;28;01mwith\u001b[39;00m _InterpolateFunctionError(\u001b[38;5;28mself\u001b[39m):\n\u001b[1;32m    498\u001b[0m   \u001b[38;5;28;01mif\u001b[39;00m cancellation_manager \u001b[38;5;129;01mis\u001b[39;00m \u001b[38;5;28;01mNone\u001b[39;00m:\n\u001b[0;32m--> 499\u001b[0m     outputs \u001b[38;5;241m=\u001b[39m \u001b[43mexecute\u001b[49m\u001b[38;5;241;43m.\u001b[39;49m\u001b[43mexecute\u001b[49m\u001b[43m(\u001b[49m\n\u001b[1;32m    500\u001b[0m \u001b[43m        \u001b[49m\u001b[38;5;28;43mstr\u001b[39;49m\u001b[43m(\u001b[49m\u001b[38;5;28;43mself\u001b[39;49m\u001b[38;5;241;43m.\u001b[39;49m\u001b[43msignature\u001b[49m\u001b[38;5;241;43m.\u001b[39;49m\u001b[43mname\u001b[49m\u001b[43m)\u001b[49m\u001b[43m,\u001b[49m\n\u001b[1;32m    501\u001b[0m \u001b[43m        \u001b[49m\u001b[43mnum_outputs\u001b[49m\u001b[38;5;241;43m=\u001b[39;49m\u001b[38;5;28;43mself\u001b[39;49m\u001b[38;5;241;43m.\u001b[39;49m\u001b[43m_num_outputs\u001b[49m\u001b[43m,\u001b[49m\n\u001b[1;32m    502\u001b[0m \u001b[43m        \u001b[49m\u001b[43minputs\u001b[49m\u001b[38;5;241;43m=\u001b[39;49m\u001b[43margs\u001b[49m\u001b[43m,\u001b[49m\n\u001b[1;32m    503\u001b[0m \u001b[43m        \u001b[49m\u001b[43mattrs\u001b[49m\u001b[38;5;241;43m=\u001b[39;49m\u001b[43mattrs\u001b[49m\u001b[43m,\u001b[49m\n\u001b[1;32m    504\u001b[0m \u001b[43m        \u001b[49m\u001b[43mctx\u001b[49m\u001b[38;5;241;43m=\u001b[39;49m\u001b[43mctx\u001b[49m\u001b[43m)\u001b[49m\n\u001b[1;32m    505\u001b[0m   \u001b[38;5;28;01melse\u001b[39;00m:\n\u001b[1;32m    506\u001b[0m     outputs \u001b[38;5;241m=\u001b[39m execute\u001b[38;5;241m.\u001b[39mexecute_with_cancellation(\n\u001b[1;32m    507\u001b[0m         \u001b[38;5;28mstr\u001b[39m(\u001b[38;5;28mself\u001b[39m\u001b[38;5;241m.\u001b[39msignature\u001b[38;5;241m.\u001b[39mname),\n\u001b[1;32m    508\u001b[0m         num_outputs\u001b[38;5;241m=\u001b[39m\u001b[38;5;28mself\u001b[39m\u001b[38;5;241m.\u001b[39m_num_outputs,\n\u001b[0;32m   (...)\u001b[0m\n\u001b[1;32m    511\u001b[0m         ctx\u001b[38;5;241m=\u001b[39mctx,\n\u001b[1;32m    512\u001b[0m         cancellation_manager\u001b[38;5;241m=\u001b[39mcancellation_manager)\n",
      "File \u001b[0;32m~/miniforge3/envs/tensorflow_silicon/lib/python3.9/site-packages/tensorflow/python/eager/execute.py:54\u001b[0m, in \u001b[0;36mquick_execute\u001b[0;34m(op_name, num_outputs, inputs, attrs, ctx, name)\u001b[0m\n\u001b[1;32m     52\u001b[0m \u001b[38;5;28;01mtry\u001b[39;00m:\n\u001b[1;32m     53\u001b[0m   ctx\u001b[38;5;241m.\u001b[39mensure_initialized()\n\u001b[0;32m---> 54\u001b[0m   tensors \u001b[38;5;241m=\u001b[39m \u001b[43mpywrap_tfe\u001b[49m\u001b[38;5;241;43m.\u001b[39;49m\u001b[43mTFE_Py_Execute\u001b[49m\u001b[43m(\u001b[49m\u001b[43mctx\u001b[49m\u001b[38;5;241;43m.\u001b[39;49m\u001b[43m_handle\u001b[49m\u001b[43m,\u001b[49m\u001b[43m \u001b[49m\u001b[43mdevice_name\u001b[49m\u001b[43m,\u001b[49m\u001b[43m \u001b[49m\u001b[43mop_name\u001b[49m\u001b[43m,\u001b[49m\n\u001b[1;32m     55\u001b[0m \u001b[43m                                      \u001b[49m\u001b[43minputs\u001b[49m\u001b[43m,\u001b[49m\u001b[43m \u001b[49m\u001b[43mattrs\u001b[49m\u001b[43m,\u001b[49m\u001b[43m \u001b[49m\u001b[43mnum_outputs\u001b[49m\u001b[43m)\u001b[49m\n\u001b[1;32m     56\u001b[0m \u001b[38;5;28;01mexcept\u001b[39;00m core\u001b[38;5;241m.\u001b[39m_NotOkStatusException \u001b[38;5;28;01mas\u001b[39;00m e:\n\u001b[1;32m     57\u001b[0m   \u001b[38;5;28;01mif\u001b[39;00m name \u001b[38;5;129;01mis\u001b[39;00m \u001b[38;5;129;01mnot\u001b[39;00m \u001b[38;5;28;01mNone\u001b[39;00m:\n",
      "\u001b[0;31mKeyboardInterrupt\u001b[0m: "
     ]
    }
   ],
   "source": [
    "lstms1 = []\n",
    "models1 = []\n",
    "for batch, epoch, neuron in hyperparam1:\n",
    "    model = Sequential()\n",
    "    model.add(LSTM(neuron, input_shape=(train_X.shape[1], train_X.shape[2])))\n",
    "    model.add(Dense(units=1))\n",
    "    model.compile(loss='mse',optimizer='adam')\n",
    "    lstm = model.fit(train_X, train_y, epochs=epoch, batch_size=batch, validation_data=(test_X, test_y), verbose=2, shuffle=False)\n",
    "    lstms1.append(lstm)\n",
    "    models1.append(model)"
   ]
  },
  {
   "cell_type": "code",
   "execution_count": null,
   "id": "ebe15d8d-6bc9-4220-a7db-48e4d4c7cd18",
   "metadata": {},
   "outputs": [],
   "source": [
    "i=0\n",
    "for x in models1:\n",
    "    # make a prediction\n",
    "    test_x2 = test_X\n",
    "    yhat = x.predict(test_x2)\n",
    "    # test_x2 = test_x2.reshape((test_x2.shape[0], test_x2.shape[2]))\n",
    "    # invert scaling for forecast\n",
    "    inv_yhat = np.concatenate((np.zeros((len(yhat), 4)),yhat), axis=1)\n",
    "    inv_yhat = scaler.inverse_transform(inv_yhat)\n",
    "    # inv_yhat = inv_yhat[:,0]\n",
    "    # invert scaling for actual\n",
    "    test_y = test_y.reshape((len(test_y), 1))\n",
    "    inv_y = np.concatenate((np.zeros((len(yhat), 4)), test_y), axis=1)\n",
    "    inv_y = scaler.inverse_transform(inv_y)\n",
    "    # inv_y = inv_y[:,0]\n",
    "    yhat_df = pd.DataFrame(inv_yhat, columns = ['Open','High','Low', 'Volume', 'Close'])\n",
    "    y_df = pd.DataFrame(inv_y, columns = ['Open','High','Low', 'Volume', 'Close'])\n",
    "    print(hyperparam1[i])\n",
    "    print(\"Epoch: \"+ str(lstms1[i].params['epochs']))\n",
    "    print(\"Neurons: \"+str(x.layers[0].units))\n",
    "    # print(str(lstms[i].params))\n",
    "    i = i+1\n",
    "    # test_x2 = test_X\n",
    "    # test_x3 = x.predict(test_x2)\n",
    "    # # print(test_x3.shape)\n",
    "    # # print(test_y.shape)\n",
    "    # print(yhat_df)\n",
    "    print('RMSE')\n",
    "    print(RMSE(y_df['Close'],yhat_df['Close']))\n",
    "    print('MAE')\n",
    "    print(MAE(y_df['Close'],yhat_df['Close']))\n",
    "    print('MAPE')\n",
    "    print(MAPE(y_df['Close'],yhat_df['Close']))"
   ]
  },
  {
   "cell_type": "code",
   "execution_count": null,
   "id": "b915d08f-2ba6-410c-92d9-624ff5b63395",
   "metadata": {},
   "outputs": [],
   "source": [
    "y_df"
   ]
  },
  {
   "cell_type": "code",
   "execution_count": null,
   "id": "19068bd2-cf9e-4027-8d97-df95ca7ffe51",
   "metadata": {},
   "outputs": [],
   "source": [
    "yhat_df"
   ]
  },
  {
   "cell_type": "code",
   "execution_count": null,
   "id": "163b3194-7300-4cab-bf14-cade7d1dc5a7",
   "metadata": {},
   "outputs": [],
   "source": [
    "y_df.shape"
   ]
  },
  {
   "cell_type": "code",
   "execution_count": null,
   "id": "09b72569-a783-465c-b828-1a68e970e0a4",
   "metadata": {},
   "outputs": [],
   "source": []
  }
 ],
 "metadata": {
  "kernelspec": {
   "display_name": "Python 3 (ipykernel)",
   "language": "python",
   "name": "python3"
  },
  "language_info": {
   "codemirror_mode": {
    "name": "ipython",
    "version": 3
   },
   "file_extension": ".py",
   "mimetype": "text/x-python",
   "name": "python",
   "nbconvert_exporter": "python",
   "pygments_lexer": "ipython3",
   "version": "3.9.13"
  }
 },
 "nbformat": 4,
 "nbformat_minor": 5
}
