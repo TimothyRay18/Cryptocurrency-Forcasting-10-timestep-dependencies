{
 "cells": [
  {
   "cell_type": "code",
   "execution_count": null,
   "id": "499ef9d1-2655-483e-9f50-0badccf17d21",
   "metadata": {},
   "outputs": [],
   "source": [
    "# prepare data for lstm\n",
    "from pandas import read_csv\n",
    "from pandas import DataFrame\n",
    "from pandas import concat\n",
    "from sklearn.preprocessing import LabelEncoder\n",
    "from sklearn.preprocessing import MinMaxScaler\n",
    "import tensorflow as tf\n",
    "from sklearn.preprocessing import MinMaxScaler\n",
    "import numpy as np\n",
    "from tensorflow.keras.models import Sequential\n",
    "from tensorflow.keras.layers import Dense, Dropout\n",
    "from tensorflow.keras.layers import Bidirectional, LSTM\n",
    "from openpyxl.workbook import Workbook"
   ]
  },
  {
   "cell_type": "code",
   "execution_count": null,
   "id": "b213829a-295a-46a7-bbd7-152bcce0aeb2",
   "metadata": {},
   "outputs": [],
   "source": [
    "import pandas as pd\n",
    "import matplotlib.pyplot as plt\n",
    "\n",
    "# Set-up to have matplotlib use its support for notebook inline plots\n",
    "%matplotlib inline"
   ]
  },
  {
   "cell_type": "code",
   "execution_count": null,
   "id": "f8ed0706-d5c2-4868-beee-6933c00b0a83",
   "metadata": {},
   "outputs": [],
   "source": [
    "btc_dfd = pd.read_csv('Binance_BTCUSDT_1h.csv')\n",
    "btc_dfd"
   ]
  },
  {
   "cell_type": "code",
   "execution_count": null,
   "id": "41062755-9cca-4348-91bc-e80d46b79c3d",
   "metadata": {},
   "outputs": [],
   "source": [
    "btc_clean = btc_dfd.drop(['unix', 'symbol', 'Volume BTC', 'tradecount'], axis=1)\n",
    "# res_btc = btc_clean[~(btc_clean['date'] < pd.to_datetime(\"2018-01-01\").date())]\n",
    "btc_clean = btc_clean[1:43016]\n",
    "btc_clean"
   ]
  },
  {
   "cell_type": "code",
   "execution_count": null,
   "id": "cc368c1b-a82f-4dbf-85c4-f19ebff7a21a",
   "metadata": {},
   "outputs": [],
   "source": [
    "btc = btc_clean.iloc[::-1]\n",
    "btc"
   ]
  },
  {
   "cell_type": "code",
   "execution_count": null,
   "id": "483f3731-9efb-47c6-af9c-6eadc95287e3",
   "metadata": {},
   "outputs": [],
   "source": [
    "btc = btc.reset_index(drop=True)\n",
    "btc"
   ]
  },
  {
   "cell_type": "code",
   "execution_count": null,
   "id": "140ecfee-f8cf-45f6-b3c6-49e8e7458101",
   "metadata": {},
   "outputs": [],
   "source": [
    "btc.duplicated().sum()"
   ]
  },
  {
   "cell_type": "code",
   "execution_count": null,
   "id": "c42a7847-70b8-4487-a874-67e370666724",
   "metadata": {},
   "outputs": [],
   "source": [
    "duplicates = btc[btc.duplicated()]\n",
    "print(duplicates)"
   ]
  },
  {
   "cell_type": "code",
   "execution_count": null,
   "id": "a8e525a6-83d0-4c8b-9875-33e0e15480ae",
   "metadata": {},
   "outputs": [],
   "source": [
    "# No duplicated data"
   ]
  },
  {
   "cell_type": "code",
   "execution_count": null,
   "id": "08213717-a303-4c9e-97bb-280204035109",
   "metadata": {},
   "outputs": [],
   "source": [
    "btc.isnull().sum()"
   ]
  },
  {
   "cell_type": "code",
   "execution_count": null,
   "id": "aff76bd7-16f2-4bf2-8a64-f1f6a1194661",
   "metadata": {},
   "outputs": [],
   "source": [
    "# No missing value"
   ]
  },
  {
   "cell_type": "code",
   "execution_count": null,
   "id": "4efa14c4-f85e-47c3-bc04-7f0d029d3a72",
   "metadata": {},
   "outputs": [],
   "source": [
    "btc = btc[['open', 'high', 'low', 'Volume USDT', 'close']]\n",
    "btc"
   ]
  },
  {
   "cell_type": "code",
   "execution_count": null,
   "id": "51dc56af-5903-45ab-a70b-556fb3f3d97a",
   "metadata": {},
   "outputs": [],
   "source": [
    "scaler = MinMaxScaler()\n",
    "btc_df = scaler.fit_transform(np.array(btc))"
   ]
  },
  {
   "cell_type": "code",
   "execution_count": null,
   "id": "d98152d5-e8c5-4645-90ea-876a042b25e0",
   "metadata": {},
   "outputs": [],
   "source": [
    "btc_df"
   ]
  },
  {
   "cell_type": "code",
   "execution_count": null,
   "id": "50d04ca0-f51f-465b-8229-af015c624039",
   "metadata": {},
   "outputs": [],
   "source": [
    "training_size = int(len(btc_df)*0.8)\n",
    "test_size = len(btc_df)-training_size\n",
    "train_data,test_data = btc_df[0:training_size,:],btc_df[training_size:len(btc_df),:]\n",
    "print('train_data: ', train_data.shape)\n",
    "print('test_data: ', test_data.shape)"
   ]
  },
  {
   "cell_type": "code",
   "execution_count": null,
   "id": "5d06c56c-8ef3-4e92-8c96-99b93dbaaa28",
   "metadata": {},
   "outputs": [],
   "source": [
    "# convert an array of values into a dataset matrix\n",
    "def create_dataset(dataset, time_step=1):\n",
    "    dataX = []\n",
    "    dataY = []\n",
    "    for i in range(len(dataset)-time_step-1):\n",
    "        a = dataset[i:(i+time_step)]  \n",
    "        b = dataset[i+time_step][4]\n",
    "        dataX.append(a)\n",
    "        dataY.append(float(b))\n",
    "    \n",
    "    return np.array(dataX), np.array(dataY)"
   ]
  },
  {
   "cell_type": "code",
   "execution_count": null,
   "id": "894700da-fd83-4d14-bedd-39f52b99890f",
   "metadata": {},
   "outputs": [],
   "source": [
    "time_step = 10\n",
    "train_X, train_y = create_dataset(train_data, time_step)\n",
    "test_X, test_y = create_dataset(test_data, time_step)\n",
    "# reshape input to be [samples, time steps, features] which is required for LSTM\n",
    "# X_train = X_train.reshape(X_train.shape[0],X_train.shape[1] , 1)\n",
    "# X_test = X_test.reshape(X_test.shape[0],X_test.shape[1] , 1)\n",
    "print(\"X_train: \", train_X.shape)\n",
    "print(\"X_test: \", test_X.shape)"
   ]
  },
  {
   "cell_type": "code",
   "execution_count": null,
   "id": "7f4b787e-f47b-459d-97fa-887ef0780417",
   "metadata": {},
   "outputs": [],
   "source": [
    "train_X"
   ]
  },
  {
   "cell_type": "code",
   "execution_count": null,
   "id": "6dd6b140-b080-4165-bab5-3736ec95b4e5",
   "metadata": {},
   "outputs": [],
   "source": [
    "train_y"
   ]
  },
  {
   "cell_type": "code",
   "execution_count": null,
   "id": "869ef0ff-56bc-45e3-aed4-a88338222b36",
   "metadata": {},
   "outputs": [],
   "source": [
    "print(train_X.shape, train_y.shape, test_X.shape, test_y.shape)"
   ]
  },
  {
   "cell_type": "markdown",
   "id": "cf43011a-1b18-4fef-b638-d84109a5347b",
   "metadata": {},
   "source": [
    "## Model Training"
   ]
  },
  {
   "cell_type": "code",
   "execution_count": null,
   "id": "7c6e3c5f-f40b-427b-bbf6-715de9fbfed4",
   "metadata": {},
   "outputs": [],
   "source": [
    "hyperparams = []\n",
    "batch = [16, 32, 64]\n",
    "epoch = [25, 50, 100]\n",
    "neuron = [50, 60, 100]\n",
    "for j in batch:\n",
    "    for k in epoch:\n",
    "        for l in neuron:\n",
    "            hyperparams.append((j,k,l))\n",
    "hyperparams"
   ]
  },
  {
   "cell_type": "code",
   "execution_count": null,
   "id": "c52fc162-d986-4cb9-9893-7619681dfc70",
   "metadata": {},
   "outputs": [],
   "source": [
    "hyperparam1 = hyperparams[:9]\n",
    "hyperparam2 = hyperparams[9:18]\n",
    "hyperparam3 = hyperparams[18:27]\n",
    "hyperparam1"
   ]
  },
  {
   "cell_type": "code",
   "execution_count": null,
   "id": "d42226bd-8cc7-4f34-bb16-195c46f1e33e",
   "metadata": {},
   "outputs": [],
   "source": [
    "hyperparam2"
   ]
  },
  {
   "cell_type": "code",
   "execution_count": null,
   "id": "ed77be16-ab42-4b03-b115-2019aff75427",
   "metadata": {},
   "outputs": [],
   "source": [
    "hyperparam3"
   ]
  },
  {
   "cell_type": "code",
   "execution_count": null,
   "id": "327f83dc-5358-43d9-88df-f4b70afa1dfd",
   "metadata": {},
   "outputs": [],
   "source": [
    "%run Evaluation.ipynb"
   ]
  },
  {
   "cell_type": "code",
   "execution_count": null,
   "id": "3ffd8dc1-5eb8-4d7e-aba2-cab78df020ae",
   "metadata": {},
   "outputs": [],
   "source": [
    "bilstms1 = []\n",
    "models1 = []\n",
    "for batch, epoch, neuron in hyperparam1:\n",
    "    model = Sequential()\n",
    "    model.add(Bidirectional(LSTM(neuron, input_shape=(train_X.shape[1], train_X.shape[2]))))\n",
    "    model.add(Dense(units=1))\n",
    "    model.compile(loss='mse',optimizer='adam')\n",
    "    bilstm = model.fit(train_X, train_y, epochs=epoch, batch_size=batch, validation_data=(test_X, test_y), verbose=2, shuffle=False)\n",
    "    bilstms1.append(bilstm)\n",
    "    models1.append(model)"
   ]
  },
  {
   "cell_type": "code",
   "execution_count": null,
   "id": "ebe15d8d-6bc9-4220-a7db-48e4d4c7cd18",
   "metadata": {},
   "outputs": [],
   "source": [
    "i=0\n",
    "wb1 = Workbook()\n",
    "ws1 = wb1.active\n",
    "for x in models1:\n",
    "    # make a prediction\n",
    "    test_x2 = test_X\n",
    "    yhat = x.predict(test_x2)\n",
    "    inv_yhat = np.concatenate((np.zeros((len(yhat), 4)),yhat), axis=1)\n",
    "    inv_yhat = scaler.inverse_transform(inv_yhat)\n",
    "    test_y = test_y.reshape((len(test_y), 1))\n",
    "    inv_y = np.concatenate((np.zeros((len(yhat), 4)), test_y), axis=1)\n",
    "    inv_y = scaler.inverse_transform(inv_y)\n",
    "    yhat_df = pd.DataFrame(inv_yhat, columns = ['Open','High','Low', 'Volume', 'Close'])\n",
    "    y_df = pd.DataFrame(inv_y, columns = ['Open','High','Low', 'Volume', 'Close'])\n",
    "    print(hyperparam1[i])\n",
    "    print(\"Epoch: \"+ str(bilstms1[i].params['epochs']))\n",
    "    print(\"Neurons: \"+str(x.layers[0].layer.units))\n",
    "    i = i+1\n",
    "    ws1['A'+str(i)] = 'BiLSTM'\n",
    "    ws1['B'+str(i)] = hyperparam1[i-1][0]\n",
    "    ws1['C'+str(i)] = hyperparam1[i-1][1]\n",
    "    ws1['D'+str(i)] = hyperparam1[i-1][2]\n",
    "    print('RMSE')\n",
    "    print(RMSE(y_df['Close'],yhat_df['Close']))\n",
    "    ws1['E'+str(i)] = RMSE(y_df['Close'],yhat_df['Close'])\n",
    "    print('MAE')\n",
    "    print(MAE(y_df['Close'],yhat_df['Close']))\n",
    "    ws1['F'+str(i)] = MAE(y_df['Close'],yhat_df['Close'])\n",
    "    print('MAPE')\n",
    "    print(MAPE(y_df['Close'],yhat_df['Close']))\n",
    "    ws1['G'+str(i)] = MAPE(y_df['Close'],yhat_df['Close'])\n",
    "wb1.save('BiLSTM_BTC_result1.xlsx')"
   ]
  },
  {
   "cell_type": "code",
   "execution_count": null,
   "id": "09b72569-a783-465c-b828-1a68e970e0a4",
   "metadata": {},
   "outputs": [],
   "source": [
    "bilstms2 = []\n",
    "models2 = []\n",
    "for batch, epoch, neuron in hyperparam2:\n",
    "    model = Sequential()\n",
    "    model.add(Bidirectional(LSTM(neuron, input_shape=(train_X.shape[1], train_X.shape[2]))))\n",
    "    model.add(Dense(units=1))\n",
    "    model.compile(loss='mse',optimizer='adam')\n",
    "    bilstm = model.fit(train_X, train_y, epochs=epoch, batch_size=batch, validation_data=(test_X, test_y), verbose=2, shuffle=False)\n",
    "    bilstms2.append(bilstm)\n",
    "    models2.append(model)"
   ]
  },
  {
   "cell_type": "code",
   "execution_count": null,
   "id": "0ecec446-1f6b-4f7c-8a44-e9c3caf29c4f",
   "metadata": {},
   "outputs": [],
   "source": [
    "i=0\n",
    "wb2 = Workbook()\n",
    "ws2 = wb2.active\n",
    "for x in models2:\n",
    "    # make a prediction\n",
    "    test_x2 = test_X\n",
    "    yhat = x.predict(test_x2)\n",
    "    inv_yhat = np.concatenate((np.zeros((len(yhat), 4)),yhat), axis=1)\n",
    "    inv_yhat = scaler.inverse_transform(inv_yhat)\n",
    "    test_y = test_y.reshape((len(test_y), 1))\n",
    "    inv_y = np.concatenate((np.zeros((len(yhat), 4)), test_y), axis=1)\n",
    "    inv_y = scaler.inverse_transform(inv_y)\n",
    "    yhat_df = pd.DataFrame(inv_yhat, columns = ['Open','High','Low', 'Volume', 'Close'])\n",
    "    y_df = pd.DataFrame(inv_y, columns = ['Open','High','Low', 'Volume', 'Close'])\n",
    "    print(hyperparam2[i])\n",
    "    print(\"Epoch: \"+ str(bilstms2[i].params['epochs']))\n",
    "    print(\"Neurons: \"+str(x.layers[0].layer.units))\n",
    "    i = i+1\n",
    "    ws2['A'+str(i)] = 'BiLSTM'\n",
    "    ws2['B'+str(i)] = hyperparam2[i-1][0]\n",
    "    ws2['C'+str(i)] = hyperparam2[i-1][1]\n",
    "    ws2['D'+str(i)] = hyperparam2[i-1][2]\n",
    "    print('RMSE')\n",
    "    print(RMSE(y_df['Close'],yhat_df['Close']))\n",
    "    ws2['E'+str(i)] = RMSE(y_df['Close'],yhat_df['Close'])\n",
    "    print('MAE')\n",
    "    print(MAE(y_df['Close'],yhat_df['Close']))\n",
    "    ws2['F'+str(i)] = MAE(y_df['Close'],yhat_df['Close'])\n",
    "    print('MAPE')\n",
    "    print(MAPE(y_df['Close'],yhat_df['Close']))\n",
    "    ws2['G'+str(i)] = MAPE(y_df['Close'],yhat_df['Close'])\n",
    "wb2.save('BiLSTM_BTC_result2.xlsx')"
   ]
  },
  {
   "cell_type": "code",
   "execution_count": null,
   "id": "784abd2d-2770-44d6-b780-c4229562b49a",
   "metadata": {},
   "outputs": [],
   "source": [
    "bilstms3 = []\n",
    "models3 = []\n",
    "for batch, epoch, neuron in hyperparam3:\n",
    "    model = Sequential()\n",
    "    model.add(Bidirectional(LSTM(neuron, input_shape=(train_X.shape[1], train_X.shape[2]))))\n",
    "    model.add(Dense(units=1))\n",
    "    model.compile(loss='mse',optimizer='adam')\n",
    "    bilstm = model.fit(train_X, train_y, epochs=epoch, batch_size=batch, validation_data=(test_X, test_y), verbose=2, shuffle=False)\n",
    "    bilstms3.append(bilstm)\n",
    "    models3.append(model)"
   ]
  },
  {
   "cell_type": "code",
   "execution_count": null,
   "id": "546cd3a7-bfcc-4077-9e56-6b8bfda87f91",
   "metadata": {},
   "outputs": [],
   "source": [
    "i=0\n",
    "wb3 = Workbook()\n",
    "ws3 = wb3.active\n",
    "for x in models3:\n",
    "    # make a prediction\n",
    "    test_x2 = test_X\n",
    "    yhat = x.predict(test_x2)\n",
    "    inv_yhat = np.concatenate((np.zeros((len(yhat), 4)),yhat), axis=1)\n",
    "    inv_yhat = scaler.inverse_transform(inv_yhat)\n",
    "    test_y = test_y.reshape((len(test_y), 1))\n",
    "    inv_y = np.concatenate((np.zeros((len(yhat), 4)), test_y), axis=1)\n",
    "    inv_y = scaler.inverse_transform(inv_y)\n",
    "    yhat_df = pd.DataFrame(inv_yhat, columns = ['Open','High','Low', 'Volume', 'Close'])\n",
    "    y_df = pd.DataFrame(inv_y, columns = ['Open','High','Low', 'Volume', 'Close'])\n",
    "    print(hyperparam3[i])\n",
    "    print(\"Epoch: \"+ str(bilstms3[i].params['epochs']))\n",
    "    print(\"Neurons: \"+str(x.layers[0].layer.units))\n",
    "    i = i+1\n",
    "    ws3['A'+str(i)] = 'BiLSTM'\n",
    "    ws3['B'+str(i)] = hyperparam3[i-1][0]\n",
    "    ws3['C'+str(i)] = hyperparam3[i-1][1]\n",
    "    ws3['D'+str(i)] = hyperparam3[i-1][2]\n",
    "    print('RMSE')\n",
    "    print(RMSE(y_df['Close'],yhat_df['Close']))\n",
    "    ws3['E'+str(i)] = RMSE(y_df['Close'],yhat_df['Close'])\n",
    "    print('MAE')\n",
    "    print(MAE(y_df['Close'],yhat_df['Close']))\n",
    "    ws3['F'+str(i)] = MAE(y_df['Close'],yhat_df['Close'])\n",
    "    print('MAPE')\n",
    "    print(MAPE(y_df['Close'],yhat_df['Close']))\n",
    "    ws3['G'+str(i)] = MAPE(y_df['Close'],yhat_df['Close'])\n",
    "wb3.save('BiLSTM_BTC_result3.xlsx')"
   ]
  },
  {
   "cell_type": "code",
   "execution_count": null,
   "id": "437a712e-6fab-4837-a968-0ec65d9294ef",
   "metadata": {},
   "outputs": [],
   "source": [
    "i=0\n",
    "for x in models1:\n",
    "    x.save('BiLSTM_BTC'+str(hyperparam1[i])+'.h5')\n",
    "    i = i+1"
   ]
  },
  {
   "cell_type": "code",
   "execution_count": null,
   "id": "b7dc4933-7665-4202-9cd2-99e55cbd9af6",
   "metadata": {},
   "outputs": [],
   "source": [
    "i=0\n",
    "for x in models2:\n",
    "    x.save('BiLSTM_BTC'+str(hyperparam2[i])+'.h5')\n",
    "    i = i+1"
   ]
  },
  {
   "cell_type": "code",
   "execution_count": null,
   "id": "6c0c7795-99a5-49bf-bd8a-01a9b7921cf4",
   "metadata": {},
   "outputs": [],
   "source": [
    "i=0\n",
    "for x in models3:\n",
    "    x.save('BiLSTM_BTC'+str(hyperparam3[i])+'.h5')\n",
    "    i = i+1"
   ]
  },
  {
   "cell_type": "code",
   "execution_count": null,
   "id": "d99b65f4-ade9-447a-9440-bab346a23910",
   "metadata": {},
   "outputs": [],
   "source": [
    "test_X"
   ]
  },
  {
   "cell_type": "code",
   "execution_count": null,
   "id": "4164a8f9-5a50-4f2e-a763-46d97b3a46b1",
   "metadata": {},
   "outputs": [],
   "source": []
  }
 ],
 "metadata": {
  "kernelspec": {
   "display_name": "Python 3 (ipykernel)",
   "language": "python",
   "name": "python3"
  },
  "language_info": {
   "codemirror_mode": {
    "name": "ipython",
    "version": 3
   },
   "file_extension": ".py",
   "mimetype": "text/x-python",
   "name": "python",
   "nbconvert_exporter": "python",
   "pygments_lexer": "ipython3",
   "version": "3.9.13"
  }
 },
 "nbformat": 4,
 "nbformat_minor": 5
}
