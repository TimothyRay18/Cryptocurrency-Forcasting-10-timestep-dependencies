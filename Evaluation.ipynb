{
 "cells": [
  {
   "cell_type": "code",
   "execution_count": 1,
   "id": "bb2e73cb-34d7-467c-b90e-20032cbc5b0d",
   "metadata": {},
   "outputs": [],
   "source": [
    "def RMSE (y, yhat):\n",
    "    differences = [y[i] - yhat[i] for i in range(len(y))]\n",
    "    squared_differences = [d**2 for d in differences]\n",
    "    sum_squared_differences = sum(squared_differences)\n",
    "    mean_squared_error = sum_squared_differences / len(y)\n",
    "    return mean_squared_error**0.5"
   ]
  },
  {
   "cell_type": "code",
   "execution_count": 2,
   "id": "6946d752-e503-492f-b6cf-2b97fa4a1080",
   "metadata": {},
   "outputs": [],
   "source": [
    "def MAE (y, yhat):\n",
    "    differences = [y[i] - yhat[i] for i in range(len(y))]\n",
    "    absolute_differences = [abs(x) for x in differences]\n",
    "    sum_absolute_difference = sum(absolute_differences)\n",
    "    mean_absolute_error = sum_absolute_difference / len(y)\n",
    "    return mean_absolute_error"
   ]
  },
  {
   "cell_type": "code",
   "execution_count": 7,
   "id": "d33ec30f-51de-47a8-8f8a-463b306d70b4",
   "metadata": {},
   "outputs": [],
   "source": [
    "def MAPE (y, yhat):\n",
    "    divided_differences = [abs((y[i] - yhat[i])/y[i]) for i in range(len(y))]\n",
    "    sum_absolute_difference = sum(divided_differences)\n",
    "    mean_absolute_percentage_error = sum_absolute_difference / len(y)\n",
    "    return mean_absolute_percentage_error*100"
   ]
  },
  {
   "cell_type": "code",
   "execution_count": null,
   "id": "716cb3dd-fa5c-428c-8bb8-9b9e6880d004",
   "metadata": {},
   "outputs": [],
   "source": []
  },
  {
   "cell_type": "code",
   "execution_count": null,
   "id": "bb6fddf6-9bfa-4ffa-a124-24420d5cd4a3",
   "metadata": {},
   "outputs": [],
   "source": []
  }
 ],
 "metadata": {
  "kernelspec": {
   "display_name": "Python 3 (ipykernel)",
   "language": "python",
   "name": "python3"
  },
  "language_info": {
   "codemirror_mode": {
    "name": "ipython",
    "version": 3
   },
   "file_extension": ".py",
   "mimetype": "text/x-python",
   "name": "python",
   "nbconvert_exporter": "python",
   "pygments_lexer": "ipython3",
   "version": "3.9.13"
  }
 },
 "nbformat": 4,
 "nbformat_minor": 5
}
